{
 "cells": [
  {
   "cell_type": "markdown",
   "metadata": {
    "collapsed": true
   },
   "source": [
    "# Euler Foward Time Backward Space (Upwind)\n",
    "\n",
    "## Taylor Series\n",
    "\n",
    "$$ f(x + a) = f(x) + a f^{'}(x) + \\frac{a^{2}}{2} f^{''}(x) + \\frac{a^3}{6} f^{'''}(x) + \\Theta(a^4) $$\n",
    "\n",
    "### Hiperbolic partial differential equation:\n",
    "\n",
    "$$ \\frac{\\partial{f(x)}}{\\partial{t}} + c\\frac{\\partial{f(x)}}{\\partial{x}} = 0 $$\n",
    "\n",
    "where c is the velocity of the wave.\n",
    "\n",
    "### Euler aproximation\n",
    "\n",
    "#### Foward time:\n",
    "\n",
    "$$ f(x, t + \\Delta t) = f(x, t) + \\Delta t \\frac{\\partial{f(x, t)}}{\\partial{t}} + \\Theta({\\Delta t}^2) $$\n",
    "\n",
    "and\n",
    "\n",
    "$$ \\frac{\\partial{f(x, t)}}{\\partial{t}} = \\frac{f(x, t + \\Delta t) - f(x, t)}{\\Delta t}  $$\n",
    "\n",
    "with error $\\Theta(\\Delta t^2)$.\n",
    "\n",
    "#### Backward Space:\n",
    "\n",
    "$$ f(x - \\Delta x, t) = f(x,t) - \\Delta x \\frac{\\partial{f(x,t)}}{\\partial{x}} + \\Theta({\\Delta x}^2) $$\n",
    "\n",
    "and\n",
    "\n",
    "$$ \\frac{\\partial{f(x, t)}}{\\partial{x}} = \\frac{f(x,t) - f(x-\\Delta x, t)}{\\Delta x}  $$\n",
    "\n",
    "with error $\\Theta(\\Delta x^2)$.\n",
    "\n",
    "### Discretization of Hiperbolic Equation\n",
    "\n",
    "\n",
    "$$ \\frac{f(x, t + \\Delta t) - f(x, t)}{\\Delta t} + c \\left( \\frac{f(x,t) - f(x-\\Delta x, t)}{\\Delta x} \\right) = 0 $$\n",
    "\n",
    "#### The same using index\n",
    "\n",
    "$$ \\frac{f^{n+1}_{i} - f^{n}_{i}}{\\Delta t} + c \\left( \\frac{f^{n}_{i} - f^{n}_{i-1}}{\\Delta x} \\right) = 0 $$\n",
    "\n",
    "so we have:\n",
    "\n",
    "\n",
    "$$ f^{n+1}_{i} =  f^{n}_{i} - c \\frac{\\Delta t}{\\Delta x} ( f^{n}_{i} - f^{n}_{i-1} ) $$\n",
    "\n",
    "where $ c \\frac{\\Delta t}{\\Delta x} $ is the Courant Friedrichs Lewy number, CFL number."
   ]
  },
  {
   "cell_type": "markdown",
   "metadata": {},
   "source": [
    "## Required Libs"
   ]
  },
  {
   "cell_type": "code",
   "execution_count": 2,
   "metadata": {},
   "outputs": [],
   "source": [
    "import numpy as np\n",
    "import matplotlib.pyplot as plt"
   ]
  },
  {
   "cell_type": "markdown",
   "metadata": {
    "collapsed": true
   },
   "source": [
    "## Initial Field Values"
   ]
  },
  {
   "cell_type": "code",
   "execution_count": 9,
   "metadata": {},
   "outputs": [],
   "source": [
    "# Spatial discretization\n",
    "L = 10.0                                      # Domain length\n",
    "n = 101                                       # Number of points\n",
    "dx = L/(n-1)                                  # Length of spacing\n",
    "x = np.linspace(0,L,n)                        # Node Positions\n",
    "\n",
    "# Time discretization\n",
    "nt = 10                                       # Number of time steps\n",
    "dt = 0.1                                      # Time step\n",
    "\n",
    "# Wave equation parameters\n",
    "a = 0.5                                       # Velocity coefficient\n",
    "\n",
    "# Initial conditions\n",
    "f = np.zeros((n,1))                           # Wave function (Initialization)\n",
    "f[40:60] = 1.0                                # Wave square pulse"
   ]
  },
  {
   "cell_type": "markdown",
   "metadata": {},
   "source": [
    "## Initial condition"
   ]
  },
  {
   "cell_type": "code",
   "execution_count": 10,
   "metadata": {},
   "outputs": [
    {
     "data": {
      "image/png": "[encoded data removed]",
      "text/plain": [
       "<matplotlib.figure.Figure at 0x10b81f940>"
      ]
     },
     "metadata": {},
     "output_type": "display_data"
    }
   ],
   "source": [
    "plt.plot(x,f,'.-b')\n",
    "plt.suptitle('f function')\n",
    "plt.xlabel('x')\n",
    "plt.ylabel('f')\n",
    "plt.grid()\n",
    "plt.show()"
   ]
  },
  {
   "cell_type": "markdown",
   "metadata": {},
   "source": [
    "## Upwind Solution"
   ]
  },
  {
   "cell_type": "code",
   "execution_count": 11,
   "metadata": {},
   "outputs": [
    {
     "data": {
      "image/png": "[encoded data removed]",
      "text/plain": [
       "<matplotlib.figure.Figure at 0x10cf884e0>"
      ]
     },
     "metadata": {},
     "output_type": "display_data"
    }
   ],
   "source": [
    "# Time loop\n",
    "for k in range(0,nt):\n",
    "    f_old = f\n",
    "    for i in range(1,n-1):\n",
    "        f[i] = f_old[i] - (a*dt/dx)*(f_old[i]-f_old[i-1])\n",
    "    f[0] = f_old[n-1]\n",
    "    \n",
    "plt.plot(x,f,'.-b')\n",
    "plt.suptitle('f function')\n",
    "plt.xlabel('x')\n",
    "plt.ylabel('f')\n",
    "plt.grid()\n",
    "plt.show()"
   ]
  }
 ],
 "metadata": {
  "anaconda-cloud": {},
  "kernelspec": {
   "display_name": "Python 3",
   "language": "python",
   "name": "python3"
  },
  "language_info": {
   "codemirror_mode": {
    "name": "ipython",
    "version": 3
   },
   "file_extension": ".py",
   "mimetype": "text/x-python",
   "name": "python",
   "nbconvert_exporter": "python",
   "pygments_lexer": "ipython3",
   "version": "3.6.3"
  }
 },
 "nbformat": 4,
 "nbformat_minor": 1
}
