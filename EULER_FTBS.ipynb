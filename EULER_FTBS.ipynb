{
 "cells": [
  {
   "cell_type": "markdown",
   "metadata": {
    "collapsed": true
   },
   "source": [
    "# Euler Foward Time Backward Space (Upwind)\n",
    "\n",
    "## Taylor Series\n",
    "\n",
    "$$ f(x + a) = f(x) + a f^{\\prime}(x) + \\frac{a^{2}}{2} f^{\\prime\\prime}(x) + \\frac{a^3}{6} f^{\\prime\\prime\\prime}(x) + \\Theta(a^4) $$\n",
    "\n",
    "### Hiperbolic partial differential equation:\n",
    "\n",
    "$$ \\frac{\\partial{f(x)}}{\\partial{t}} + c\\frac{\\partial{f(x)}}{\\partial{x}} = 0 $$\n",
    "\n",
    "where c is the velocity of the wave.\n",
    "\n",
    "### Euler aproximation\n",
    "\n",
    "#### Foward time:\n",
    "\n",
    "$$ f(x, t + \\Delta t) = f(x, t) + \\Delta t \\frac{\\partial{f(x, t)}}{\\partial{t}} + \\Theta({\\Delta t}^4) $$\n",
    "\n",
    "\n",
    "$$ \\frac{\\partial{f(x, t)}}{\\partial{t}} = \\frac{f(x, t + \\Delta t) - f(x, t)}{\\Delta t}  $$\n",
    "\n",
    "with error $\\Theta(\\Delta t^4)$.\n",
    "\n",
    "#### Backward Space:\n",
    "\n",
    "$$ f(x - \\Delta x, t) = f(x,t) - \\Delta x \\frac{\\partial{f(x,t)}}{\\partial{x}} + \\Theta({\\Delta x}^4) $$\n",
    "\n",
    "\n",
    "$$ \\frac{\\partial{f(x, t)}}{\\partial{x}} = \\frac{f(x,t) - f(x-\\Delta x, t)}{\\Delta x}  $$\n",
    "\n",
    "with error $\\Theta(\\Delta x^4)$.\n",
    "\n",
    "### Discretization of Hiperbolic Equation\n",
    "\n",
    "\n",
    "$$ \\frac{f(x, t + \\Delta t) - f(x, t)}{\\Delta t} + c \\left( \\frac{f(x,t) - f(x-\\Delta x, t)}{\\Delta x} \\right) = 0 $$\n",
    "\n",
    "#### The same using index\n",
    "\n",
    "$$ \\frac{f^{n+1}_{i} - f^{n}_{i}}{\\Delta t} + c \\left( \\frac{f^{n}_{i} - f^{n}_{i-1}}{\\Delta x} \\right) = 0 $$\n",
    "\n",
    "so we have:\n",
    "\n",
    "\n",
    "$$ f^{n+1}_{i} =  f^{n}_{i} - c \\frac{\\Delta t}{\\Delta x} ( f^{n}_{i} - f^{n}_{i-1} ) $$\n",
    "\n",
    "where $ c \\frac{\\Delta t}{\\Delta x} $ is the Courant Friedrichs Lewy number, CFL number."
   ]
  },
  {
   "cell_type": "markdown",
   "metadata": {},
   "source": [
    "## Required Libs"
   ]
  },
  {
   "cell_type": "code",
   "execution_count": 2,
   "metadata": {
    "collapsed": true
   },
   "outputs": [],
   "source": [
    "import numpy as np\n",
    "import matplotlib.pyplot as mpl"
   ]
  },
  {
   "cell_type": "markdown",
   "metadata": {
    "collapsed": true
   },
   "source": [
    "## Initial Field Values"
   ]
  },
  {
   "cell_type": "code",
   "execution_count": null,
   "metadata": {
    "collapsed": true
   },
   "outputs": [],
   "source": []
  }
 ],
 "metadata": {
  "anaconda-cloud": {},
  "kernelspec": {
   "display_name": "Python [conda root]",
   "language": "python",
   "name": "conda-root-py"
  },
  "language_info": {
   "codemirror_mode": {
    "name": "ipython",
    "version": 3
   },
   "file_extension": ".py",
   "mimetype": "text/x-python",
   "name": "python",
   "nbconvert_exporter": "python",
   "pygments_lexer": "ipython3",
   "version": "3.5.2"
  }
 },
 "nbformat": 4,
 "nbformat_minor": 1
}
